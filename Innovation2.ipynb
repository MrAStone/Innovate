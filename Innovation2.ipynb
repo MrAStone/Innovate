{
  "cells": [
    {
      "cell_type": "markdown",
      "metadata": {
        "id": "view-in-github",
        "colab_type": "text"
      },
      "source": [
        "<a href=\"https://colab.research.google.com/github/MrAStone/Innovate/blob/main/Innovation2.ipynb\" target=\"_parent\"><img src=\"https://colab.research.google.com/assets/colab-badge.svg\" alt=\"Open In Colab\"/></a>"
      ]
    },
    {
      "cell_type": "markdown",
      "source": [],
      "metadata": {
        "id": "9YUE4LJQpglm"
      }
    },
    {
      "cell_type": "markdown",
      "source": [
        "# New Section"
      ],
      "metadata": {
        "id": "aoxMoSW9phtY"
      }
    },
    {
      "cell_type": "code",
      "source": [],
      "metadata": {
        "id": "TOdNRw0PqeA7"
      },
      "execution_count": null,
      "outputs": []
    },
    {
      "cell_type": "markdown",
      "source": [
        "# New Section"
      ],
      "metadata": {
        "id": "L0zFyj_bppP6"
      }
    },
    {
      "cell_type": "code",
      "execution_count": null,
      "metadata": {
        "id": "m3CFyc1fa5py"
      },
      "outputs": [],
      "source": [
        "!pip install numpy pandas matplotlib seaborn\n",
        "\n",
        "import numpy as np\n",
        "import pandas as pd\n",
        "import matplotlib.pyplot as plt\n",
        "import seaborn as sns\n",
        "%matplotlib inline\n",
        "from sklearn.model_selection import train_test_split\n",
        "import warnings\n",
        "warnings.filterwarnings('ignore')\n",
        "\n",
        "sns.set_style(\"whitegrid\")\n"
      ]
    },
    {
      "cell_type": "code",
      "execution_count": 22,
      "metadata": {
        "colab": {
          "base_uri": "https://localhost:8080/"
        },
        "id": "tIcOJVNjbChU",
        "outputId": "b52b2531-6eb5-4cd9-b5c4-cc9c2c3b91d2"
      },
      "outputs": [
        {
          "output_type": "stream",
          "name": "stdout",
          "text": [
            "    Values\n",
            "0       10\n",
            "1       12\n",
            "2       12\n",
            "3       13\n",
            "4       21\n",
            "5       11\n",
            "6       14\n",
            "7       13\n",
            "8      500\n",
            "9       15\n",
            "10      14\n",
            "11     500\n",
            "12      13\n",
            "13      12\n",
            "14      11\n"
          ]
        }
      ],
      "source": [
        "data = {'Values':[10,12,12,13,21,11,14,13,500,15,14,500,13,12,11]}\n",
        "df = pd.DataFrame(data)\n",
        "print(df)"
      ]
    },
    {
      "cell_type": "code",
      "source": [
        "plt.figure(figsize=(10,6))\n",
        "sns.boxplot(x=df['Values'])\n",
        "plt.title('Boxplot of Values')\n",
        "plt.show()"
      ],
      "metadata": {
        "id": "XAhLl2H1kjPA"
      },
      "execution_count": null,
      "outputs": []
    },
    {
      "cell_type": "code",
      "source": [
        "Q1 = df['Values'].quantile(0.25)\n",
        "Q3 = df['Values'].quantile(0.75)\n",
        "IQR = Q3-Q1\n",
        "lower_bound = Q1 - 1.5 * IQR\n",
        "upper_bound = Q3 + 1.5 * IQR\n",
        "\n",
        "outliers = df[(df['Values']< lower_bound) | (df['Values']>upper_bound)]\n",
        "print(\"Outliers:\\n\", outliers)"
      ],
      "metadata": {
        "colab": {
          "base_uri": "https://localhost:8080/"
        },
        "id": "ofGDYsKLlTle",
        "outputId": "7d11cb82-36f7-4bc7-c145-c84ff92dde0c"
      },
      "execution_count": 27,
      "outputs": [
        {
          "output_type": "stream",
          "name": "stdout",
          "text": [
            "Outliers:\n",
            "     Values\n",
            "4       21\n",
            "8      500\n",
            "11     500\n"
          ]
        }
      ]
    },
    {
      "cell_type": "code",
      "source": [
        "# Removing outliers\n",
        "df_clean = df[(df['Values']>=lower_bound)&(df['Values']<=upper_bound)]\n",
        "print(df_clean)\n",
        "plt.figure(figsize=(10,6))\n",
        "sns.boxplot(x=df_clean['Values'])\n",
        "plt.title('Boxplot of Values')\n",
        "plt.show()"
      ],
      "metadata": {
        "colab": {
          "base_uri": "https://localhost:8080/",
          "height": 790
        },
        "id": "w9_TSpKrmvi9",
        "outputId": "18ae955a-058a-44a2-8301-73139684d274"
      },
      "execution_count": 29,
      "outputs": [
        {
          "output_type": "stream",
          "name": "stdout",
          "text": [
            "    Values\n",
            "0       10\n",
            "1       12\n",
            "2       12\n",
            "3       13\n",
            "5       11\n",
            "6       14\n",
            "7       13\n",
            "9       15\n",
            "10      14\n",
            "12      13\n",
            "13      12\n",
            "14      11\n"
          ]
        },
        {
          "output_type": "display_data",
          "data": {
            "text/plain": [
              "<Figure size 1000x600 with 1 Axes>"
            ],
            "image/png": "[encoded data removed]"
          },
          "metadata": {}
        }
      ]
    }
  ],
  "metadata": {
    "colab": {
      "provenance": [],
      "toc_visible": true,
      "authorship_tag": "ABX9TyMRpOz2SGJv+Y3OuIafwXQD",
      "include_colab_link": true
    },
    "kernelspec": {
      "display_name": "Python 3",
      "name": "python3"
    },
    "language_info": {
      "name": "python"
    }
  },
  "nbformat": 4,
  "nbformat_minor": 0
}